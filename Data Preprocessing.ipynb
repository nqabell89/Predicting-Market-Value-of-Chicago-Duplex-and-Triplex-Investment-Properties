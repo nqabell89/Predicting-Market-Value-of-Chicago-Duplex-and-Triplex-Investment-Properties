{
 "cells": [
  {
   "cell_type": "code",
   "execution_count": 2,
   "metadata": {},
   "outputs": [],
   "source": [
    "import pandas as pd\n",
    "import numpy as np\n",
    "import pickle\n",
    "import warnings\n",
    "warnings.filterwarnings(action='ignore')"
   ]
  },
  {
   "cell_type": "code",
   "execution_count": 3,
   "metadata": {},
   "outputs": [],
   "source": [
    "df1 = pd.read_csv('data/mu100-199.csv')\n",
    "df2 = pd.read_csv('data/mu200-299.csv')\n",
    "df3 = pd.read_csv('data/mu300-399.csv')\n",
    "df4 = pd.read_csv('data/mu400-499.csv')\n",
    "df5 = pd.read_csv('data/mu500-599.csv')\n",
    "df6 = pd.read_csv('data/mu600-699.csv')\n",
    "df7 = pd.read_csv('data/mu700-799.csv')\n",
    "df8 = pd.read_csv('data/mu800-899.csv')\n",
    "df9 = pd.read_csv('data/mu900-999.csv')\n",
    "df10 = pd.read_csv('data/mu1000-.csv')"
   ]
  },
  {
   "cell_type": "code",
   "execution_count": 4,
   "metadata": {},
   "outputs": [],
   "source": [
    "df = df1.append(df2, ignore_index=True)\n",
    "df = df.append(df3, ignore_index=True)\n",
    "df = df.append(df4, ignore_index=True)\n",
    "df = df.append(df5, ignore_index=True)\n",
    "df = df.append(df6, ignore_index=True)\n",
    "df = df.append(df7, ignore_index=True)\n",
    "df = df.append(df8, ignore_index=True)\n",
    "df = df.append(df9, ignore_index=True)\n",
    "df = df.append(df10, ignore_index=True)"
   ]
  },
  {
   "cell_type": "code",
   "execution_count": 5,
   "metadata": {},
   "outputs": [
    {
     "data": {
      "text/plain": [
       "(13579, 75)"
      ]
     },
     "execution_count": 5,
     "metadata": {},
     "output_type": "execute_result"
    }
   ],
   "source": [
    "df.shape"
   ]
  },
  {
   "cell_type": "code",
   "execution_count": 6,
   "metadata": {},
   "outputs": [],
   "source": [
    "drop_columns = ['Waterfront', 'Water/Sewer Exp', 'WTR', 'Reps&Maint Exp', 'Misc Exp', 'Mgmnt Fee', 'Ins exp',\n",
    "                'HERS Index', 'Heat Exp', 'Gas Exp', 'Garage Fee/Lease $', 'ELEC', 'FUE', 'As/Asc Dues',\n",
    "                'ASF', 'Trash Exp', 'ZP4', 'SF_UN1', 'SF_UN2', 'SF_UN3', 'SF_UN4']"
   ]
  },
  {
   "cell_type": "code",
   "execution_count": 7,
   "metadata": {},
   "outputs": [],
   "source": [
    "df.drop(columns=drop_columns, inplace=True)"
   ]
  },
  {
   "cell_type": "code",
   "execution_count": 8,
   "metadata": {},
   "outputs": [],
   "source": [
    "def transform_rent(cell):\n",
    "    '''\n",
    "    This function sets non-int values to 0 and removes $ signs.\n",
    "    '''\n",
    "    str_cell = str(cell)\n",
    "    new_cell = str_cell.replace('$', '')\n",
    "    cell_return = 0\n",
    "    try: \n",
    "        cell_return = int(new_cell)\n",
    "        return cell_return\n",
    "    except (KeyError, ValueError):\n",
    "        return cell_return"
   ]
  },
  {
   "cell_type": "code",
   "execution_count": 9,
   "metadata": {},
   "outputs": [],
   "source": [
    "df['Rent_1'] = df['Rnt - Un 1'].map(transform_rent)\n",
    "df['Rent_2'] = df['Rnt - Un 2'].map(transform_rent)\n",
    "df['Rent_3'] = df['Rnt - Un 3'].map(transform_rent)\n",
    "df['Rent_4'] = df['Rnt - Un 4'].map(transform_rent)\n",
    "df.drop(columns=['Rnt - Un 1', 'Rnt - Un 2', 'Rnt - Un 3', 'Rnt - Un 4'], inplace=True)"
   ]
  },
  {
   "cell_type": "code",
   "execution_count": 10,
   "metadata": {},
   "outputs": [],
   "source": [
    "def transform_br(cell):\n",
    "    \n",
    "    str_cell = str(cell)\n",
    "    new_cell = str_cell.replace('+', '').replace('-', '')\n",
    "    cell_return = 0\n",
    "    \n",
    "    try: \n",
    "        cell_return = int(new_cell)\n",
    "        return cell_return\n",
    "    \n",
    "    except ValueError:\n",
    "        if new_cell.endswith('.0'):\n",
    "            cell_return = int(new_cell[0])\n",
    "            return cell_return"
   ]
  },
  {
   "cell_type": "code",
   "execution_count": 11,
   "metadata": {},
   "outputs": [],
   "source": [
    "df['BR_1'] = df['BR1'].map(transform_br)\n",
    "df['BR_2'] = df['BR2'].map(transform_br)\n",
    "df['BR_3'] = df['BR3'].map(transform_br)\n",
    "df['BR_4'] = df['BR4'].map(transform_br)\n",
    "df.drop(columns=['BR1', 'BR2', 'BR3', 'BR4'], inplace=True)"
   ]
  },
  {
   "cell_type": "code",
   "execution_count": 12,
   "metadata": {},
   "outputs": [
    {
     "data": {
      "text/plain": [
       "(13577, 54)"
      ]
     },
     "execution_count": 12,
     "metadata": {},
     "output_type": "execute_result"
    }
   ],
   "source": [
    "df.dropna(subset=['BR_1'], inplace=True)\n",
    "df.shape"
   ]
  },
  {
   "cell_type": "code",
   "execution_count": 13,
   "metadata": {},
   "outputs": [
    {
     "data": {
      "text/plain": [
       "(13571, 54)"
      ]
     },
     "execution_count": 13,
     "metadata": {},
     "output_type": "execute_result"
    }
   ],
   "source": [
    "df.drop(index=df[df['Tot # Units'] == '2+'].index, inplace=True)\n",
    "df.shape"
   ]
  },
  {
   "cell_type": "code",
   "execution_count": 14,
   "metadata": {},
   "outputs": [
    {
     "data": {
      "text/plain": [
       "(13570, 54)"
      ]
     },
     "execution_count": 14,
     "metadata": {},
     "output_type": "execute_result"
    }
   ],
   "source": [
    "df.drop(index=df[df['Tot # Units'] == '2-'].index, inplace=True)\n",
    "df.shape"
   ]
  },
  {
   "cell_type": "code",
   "execution_count": 15,
   "metadata": {},
   "outputs": [],
   "source": [
    "df['Tot # Units'] = df['Tot # Units'].astype(int)"
   ]
  },
  {
   "cell_type": "code",
   "execution_count": 16,
   "metadata": {},
   "outputs": [
    {
     "data": {
      "text/plain": [
       "(13548, 54)"
      ]
     },
     "execution_count": 16,
     "metadata": {},
     "output_type": "execute_result"
    }
   ],
   "source": [
    "df.drop(index=df[df['Tot # Units'] > 4].index, inplace=True)\n",
    "df.shape"
   ]
  },
  {
   "cell_type": "code",
   "execution_count": 17,
   "metadata": {},
   "outputs": [
    {
     "data": {
      "text/plain": [
       "(13540, 54)"
      ]
     },
     "execution_count": 17,
     "metadata": {},
     "output_type": "execute_result"
    }
   ],
   "source": [
    "df.drop(index=df[df['Tot # Units'] == 1].index, inplace=True)\n",
    "df.shape"
   ]
  },
  {
   "cell_type": "code",
   "execution_count": 18,
   "metadata": {},
   "outputs": [
    {
     "data": {
      "text/plain": [
       "(8081, 54)"
      ]
     },
     "execution_count": 18,
     "metadata": {},
     "output_type": "execute_result"
    }
   ],
   "source": [
    "df.drop(index=df[(df['Rent_1'] == 0) & (df['Rent_2'] == 0)].index, inplace=True)\n",
    "df.shape"
   ]
  },
  {
   "cell_type": "code",
   "execution_count": 19,
   "metadata": {},
   "outputs": [
    {
     "data": {
      "text/plain": [
       "(8027, 54)"
      ]
     },
     "execution_count": 19,
     "metadata": {},
     "output_type": "execute_result"
    }
   ],
   "source": [
    "df.drop(index=df[df['BR_1'] == 0].index, inplace=True)\n",
    "df.drop(index=df[df['BR_2'] == 0].index, inplace=True)\n",
    "df.shape"
   ]
  },
  {
   "cell_type": "code",
   "execution_count": 20,
   "metadata": {},
   "outputs": [],
   "source": [
    "df_2u = df[df['Tot # Units'] == 2]\n",
    "df_3u = df[df['Tot # Units'] == 3]\n",
    "df_4u = df[df['Tot # Units'] == 4]"
   ]
  },
  {
   "cell_type": "code",
   "execution_count": 21,
   "metadata": {},
   "outputs": [],
   "source": [
    "for n in range(0,10):\n",
    "    for i in df_2u.index:\n",
    "        df_2u['BR_3'][i] = 0\n",
    "        df_2u['BR_4'][i] = 0\n",
    "        df_2u['Rent_3'][i] = 0\n",
    "        df_2u['Rent_4'][i] = 0\n",
    "        df_2u['# Full Baths-Unit 3'][i] = 0\n",
    "        df_2u['# Full Baths-Unit 4'][i] = 0"
   ]
  },
  {
   "cell_type": "code",
   "execution_count": 22,
   "metadata": {},
   "outputs": [],
   "source": [
    "for n in range(0,10):\n",
    "    for i in df_2u.index:\n",
    "        if (df_2u['Rent_1'][i] == 0) & (df_2u['Rent_2'][i] != 0):\n",
    "            df_2u['Rent_1'][i] = (df_2u['Rent_2'][i]/df_2u['BR_2'][i])*df_2u['BR_1'][i]\n",
    "        elif (df_2u['Rent_1'][i] != 0) & (df_2u['Rent_2'][i] == 0):\n",
    "            df_2u['Rent_2'][i] = (df_2u['Rent_1'][i]/df_2u['BR_1'][i])*df_2u['BR_2'][i]"
   ]
  },
  {
   "cell_type": "code",
   "execution_count": 23,
   "metadata": {},
   "outputs": [],
   "source": [
    "df_3u.drop(index=df_3u[df_3u['BR_3'] == 0].index, inplace=True)"
   ]
  },
  {
   "cell_type": "code",
   "execution_count": 24,
   "metadata": {},
   "outputs": [],
   "source": [
    "for n in range(0,10):\n",
    "    for i in df_3u.index:\n",
    "        df_3u['BR_4'][i] = 0\n",
    "        df_3u['Rent_4'][i] = 0\n",
    "        df_3u['# Full Baths-Unit 4'][i] = 0"
   ]
  },
  {
   "cell_type": "code",
   "execution_count": 25,
   "metadata": {},
   "outputs": [],
   "source": [
    "for n in range(0,10):\n",
    "    for i in df_3u.index:\n",
    "        if (df_3u['Rent_1'][i] == 0) & (df_3u['Rent_2'][i] != 0):\n",
    "            df_3u['Rent_1'][i] = (df_3u['Rent_2'][i]/df_3u['BR_2'][i])*df_3u['BR_1'][i]\n",
    "        elif (df_3u['Rent_1'][i] != 0) & (df_3u['Rent_2'][i] == 0):\n",
    "            df_3u['Rent_2'][i] = (df_3u['Rent_1'][i]/df_3u['BR_1'][i])*df_3u['BR_2'][i]\n",
    "        elif df_3u['Rent_3'][i] == 0:\n",
    "            df_3u['Rent_3'][i] = (df_3u['Rent_1'][i]/df_3u['BR_1'][i])*df_3u['BR_3'][i]"
   ]
  },
  {
   "cell_type": "code",
   "execution_count": 26,
   "metadata": {},
   "outputs": [],
   "source": [
    "df_4u.drop(index=df_4u[df_4u['BR_3'] == 0].index, inplace=True)\n",
    "df_4u.drop(index=df_4u[df_4u['BR_4'] == 0].index, inplace=True)"
   ]
  },
  {
   "cell_type": "code",
   "execution_count": 27,
   "metadata": {},
   "outputs": [],
   "source": [
    "for n in range(0,10):\n",
    "    for i in df_4u.index:\n",
    "        if (df_4u['Rent_1'][i] == 0) & (df_4u['Rent_2'][i] != 0):\n",
    "            df_4u['Rent_1'][i] = (df_4u['Rent_2'][i]/df_4u['BR_2'][i])*df_4u['BR_1'][i]\n",
    "        elif (df_4u['Rent_1'][i] != 0) & (df_4u['Rent_2'][i] == 0):\n",
    "            df_4u['Rent_2'][i] = (df_4u['Rent_1'][i]/df_4u['BR_1'][i])*df_4u['BR_2'][i]\n",
    "        elif df_4u['Rent_3'][i] == 0:\n",
    "            df_4u['Rent_3'][i] = (df_4u['Rent_1'][i]/df_4u['BR_1'][i])*df_4u['BR_3'][i]\n",
    "        elif df_4u['Rent_4'][i] == 0:\n",
    "            df_4u['Rent_4'][i] = (df_4u['Rent_1'][i]/df_4u['BR_1'][i])*df_4u['BR_4'][i]"
   ]
  },
  {
   "cell_type": "code",
   "execution_count": 28,
   "metadata": {},
   "outputs": [],
   "source": [
    "df_main = df_2u.append(df_3u, ignore_index=True)\n",
    "df_main = df_main.append(df_4u, ignore_index=True)\n",
    "df_main.reset_index(drop=True, inplace=True)"
   ]
  },
  {
   "cell_type": "code",
   "execution_count": 29,
   "metadata": {},
   "outputs": [],
   "source": [
    "df_main['Total_Rent_Monthly'] = df_main['Rent_1']+df_main['Rent_2']+df_main['Rent_3']+df_main['Rent_4']"
   ]
  },
  {
   "cell_type": "code",
   "execution_count": 30,
   "metadata": {},
   "outputs": [],
   "source": [
    "df_main['Total_Rent_Annual'] = df_main['Total_Rent_Monthly']*12"
   ]
  },
  {
   "cell_type": "code",
   "execution_count": 31,
   "metadata": {},
   "outputs": [],
   "source": [
    "def transform_noi(cell):\n",
    "    '''\n",
    "    This function converts non-null strings into null values.\n",
    "    '''\n",
    "    str_cell = str(cell)\n",
    "    cell_return = np.NaN\n",
    "    try: \n",
    "        cell_return = int(str_cell)\n",
    "        return cell_return\n",
    "    except (KeyError, ValueError):\n",
    "        return cell_return"
   ]
  },
  {
   "cell_type": "code",
   "execution_count": 32,
   "metadata": {},
   "outputs": [],
   "source": [
    "df_main['NOI'] = df_main['NOI'].map(transform_noi)"
   ]
  },
  {
   "cell_type": "code",
   "execution_count": 33,
   "metadata": {},
   "outputs": [
    {
     "data": {
      "text/plain": [
       "0.6623064532113141"
      ]
     },
     "execution_count": 33,
     "metadata": {},
     "output_type": "execute_result"
    }
   ],
   "source": [
    "df_main['NOI:Rent'] = df_main[df_main['NOI'].notnull()]['NOI']/df_main[df_main['NOI'].notnull()]['Total_Rent_Annual']\n",
    "avg_NOI_ratio = np.mean(df_main['NOI:Rent'])\n",
    "avg_NOI_ratio"
   ]
  },
  {
   "cell_type": "code",
   "execution_count": 34,
   "metadata": {},
   "outputs": [],
   "source": [
    "df_main['Estimated NOI'] = round(df_main['Total_Rent_Annual']*avg_NOI_ratio, ndigits=0)\n",
    "df_main['Estimated NOI'] = df_main['Estimated NOI'].astype(int)"
   ]
  },
  {
   "cell_type": "code",
   "execution_count": 35,
   "metadata": {},
   "outputs": [],
   "source": [
    "drop_more = ['Stat', 'Lse Exp Dt - Un 1', 'Lse Exp Dt - Un 2', 'Lse Exp Dt - Un 3', 'Lse Exp Dt - Un 4',\n",
    "             '3 Br Un In Bldg', 'NOI', 'NOI:Rent', 'Tot Rnt Inc', 'Street #', 'CP', 'Area', 'Orig List Pr',\n",
    "             'Address', 'LIST', 'LMT', 'Grs Inc', 'Br Own/Int', 'Garage Ownership', 'Rebuilt', '% PCH - OLP']"
   ]
  },
  {
   "cell_type": "code",
   "execution_count": 36,
   "metadata": {},
   "outputs": [],
   "source": [
    "df_main.drop(columns=drop_more, inplace=True)"
   ]
  },
  {
   "cell_type": "code",
   "execution_count": 37,
   "metadata": {},
   "outputs": [
    {
     "data": {
      "text/plain": [
       "{'Aluminum Siding',\n",
       " 'Aluminum/Vinyl/Steel Siding',\n",
       " 'Asbestos Siding',\n",
       " 'Block',\n",
       " 'Brick',\n",
       " 'Cedar',\n",
       " 'Clad Trim',\n",
       " 'Concrete',\n",
       " 'EIFS (e.g. Dryvit)',\n",
       " 'Frame',\n",
       " 'Glass',\n",
       " 'Limestone',\n",
       " 'Log',\n",
       " 'Marble/Granite',\n",
       " 'Masonite',\n",
       " 'Other',\n",
       " 'Shakes',\n",
       " 'Shingle Siding',\n",
       " 'Slate',\n",
       " 'Steel Siding',\n",
       " 'Stone',\n",
       " 'Stucco',\n",
       " 'Vinyl Siding'}"
      ]
     },
     "execution_count": 37,
     "metadata": {},
     "output_type": "execute_result"
    }
   ],
   "source": [
    "unique_exterior = set([x for cell in [cell.split(', ') for cell in df_main['Exterior']] for x in cell])\n",
    "# movies_df = movies_df.join(movies_df.genre.str.get_dummies(', '))\n",
    "unique_exterior"
   ]
  },
  {
   "cell_type": "code",
   "execution_count": 38,
   "metadata": {},
   "outputs": [],
   "source": [
    "df_main['Exterior Property Features'] = df_main['Exterior Property Features'].astype(str)\n",
    "for i in df_main['Exterior Property Features'].index:\n",
    "    if df_main['Exterior Property Features'][i] == 'nan':\n",
    "        df_main['Exterior Property Features'][i] = 'None'"
   ]
  },
  {
   "cell_type": "code",
   "execution_count": 39,
   "metadata": {},
   "outputs": [
    {
     "data": {
      "text/plain": [
       "{'Balcony',\n",
       " 'Breezeway',\n",
       " 'Brick Paver Patio',\n",
       " 'Cable Access',\n",
       " 'Deck',\n",
       " 'Dog Run',\n",
       " 'Door Monitored By TV',\n",
       " 'Fire Pit',\n",
       " 'Hot Tub',\n",
       " 'Master Antenna',\n",
       " 'None',\n",
       " 'Outdoor Grill',\n",
       " 'Patio',\n",
       " 'Pool Above Ground',\n",
       " 'Pool In-Ground',\n",
       " 'Porch',\n",
       " 'Porch Screened',\n",
       " 'Roof Deck',\n",
       " 'Screened Deck',\n",
       " 'Screened Patio',\n",
       " 'Stamped Concrete Patio',\n",
       " 'Storms/Screens',\n",
       " 'Workshop'}"
      ]
     },
     "execution_count": 39,
     "metadata": {},
     "output_type": "execute_result"
    }
   ],
   "source": [
    "unique_outdoor = set([x for cell in [cell.split(', ') for cell in df_main['Exterior Property Features']] for x in cell])\n",
    "# movies_df = movies_df.join(movies_df.genre.str.get_dummies(', '))\n",
    "unique_outdoor"
   ]
  },
  {
   "cell_type": "code",
   "execution_count": 40,
   "metadata": {},
   "outputs": [],
   "source": [
    "df_main['Amen'] = df_main['Amen'].astype(str)\n",
    "for i in df_main['Amen'].index:\n",
    "    if df_main['Amen'][i] == 'nan':\n",
    "        df_main['Amen'][i] = 'None'"
   ]
  },
  {
   "cell_type": "code",
   "execution_count": 41,
   "metadata": {},
   "outputs": [
    {
     "data": {
      "text/plain": [
       "{'Clubhouse',\n",
       " 'Curbs/Gutters',\n",
       " 'Dock-Community',\n",
       " 'Gated Entry',\n",
       " 'Horse-Community Barn',\n",
       " 'Horse-Riding Area',\n",
       " 'None',\n",
       " 'Other',\n",
       " 'Park/Playground',\n",
       " 'Pond/Lake',\n",
       " 'Pool',\n",
       " 'Sidewalks',\n",
       " 'Street Lights',\n",
       " 'Street Paved',\n",
       " 'Tennis Courts',\n",
       " 'Water Rights'}"
      ]
     },
     "execution_count": 41,
     "metadata": {},
     "output_type": "execute_result"
    }
   ],
   "source": [
    "unique_amenities = set([x for cell in [cell.split(', ') for cell in df_main['Amen']] for x in cell])\n",
    "unique_amenities"
   ]
  },
  {
   "cell_type": "code",
   "execution_count": 42,
   "metadata": {},
   "outputs": [],
   "source": [
    "df_main['# Garage Spaces'] = df_main['# Garage Spaces'].astype(str)\n",
    "for i in df_main['# Garage Spaces'].index:\n",
    "    if df_main['# Garage Spaces'][i] == 'nan':\n",
    "        df_main['# Garage Spaces'][i] = '0'\n",
    "df_main['# Garage Spaces'] = df_main['# Garage Spaces'].astype(float)"
   ]
  },
  {
   "cell_type": "code",
   "execution_count": 43,
   "metadata": {},
   "outputs": [],
   "source": [
    "df_main['# Parking Spaces'] = df_main['# Parking Spaces'].astype(str)\n",
    "for i in df_main['# Parking Spaces'].index:\n",
    "    if df_main['# Parking Spaces'][i] == 'nan':\n",
    "        df_main['# Parking Spaces'][i] = '0'\n",
    "df_main['# Parking Spaces'] = df_main['# Parking Spaces'].astype(float)"
   ]
  },
  {
   "cell_type": "code",
   "execution_count": 44,
   "metadata": {},
   "outputs": [],
   "source": [
    "for i in df_main[df_main['Rehab'].isna() == True].index:\n",
    "    df_main['Rehab'][i] = 'No'"
   ]
  },
  {
   "cell_type": "code",
   "execution_count": 45,
   "metadata": {},
   "outputs": [],
   "source": [
    "drop_ages = list(df_main['Age'].value_counts().tail(12).index)"
   ]
  },
  {
   "cell_type": "code",
   "execution_count": 46,
   "metadata": {},
   "outputs": [],
   "source": [
    "drop_index_age = []\n",
    "for i in df_main.index:\n",
    "    if df_main['Age'][i] in drop_ages:\n",
    "        drop_index_age.append(i)"
   ]
  },
  {
   "cell_type": "code",
   "execution_count": 47,
   "metadata": {},
   "outputs": [],
   "source": [
    "df_main.drop(index=drop_index_age, inplace=True)"
   ]
  },
  {
   "cell_type": "code",
   "execution_count": 48,
   "metadata": {},
   "outputs": [],
   "source": [
    "old = ['91-100 Years', '81-90 Years', '71-80 Years', '61-70 Years', '51-60 Years', '51-100 Years']\n",
    "medium = ['41-50 Years', '26-50 Years', '31-40 Years', '26-30 Years']\n",
    "new = ['21-25 Years', '11-25 Years', '16-20 Years', '6-10 Years', '1-5 Years', '11-15 Years']"
   ]
  },
  {
   "cell_type": "code",
   "execution_count": 49,
   "metadata": {},
   "outputs": [],
   "source": [
    "for n in range(0,10):\n",
    "    for i in df_main.index:\n",
    "        if df_main['Age'][i] == 'Unknown':\n",
    "            df_main['Age'][i] = '51-100 Years'\n",
    "        elif df_main['Age'][i] == '100+ Years':\n",
    "            df_main['Age'][i] = '100+ Years Old'\n",
    "        elif df_main['Age'][i] in old:\n",
    "            df_main['Age'][i] = '51 to 100 Yrs Old'\n",
    "        elif df_main['Age'][i] in medium:\n",
    "            df_main['Age'][i] = '26 to 50 Yrs Old'\n",
    "        elif df_main['Age'][i] in new:\n",
    "            df_main['Age'][i] = '1 to 25 Yrs Old'"
   ]
  },
  {
   "cell_type": "code",
   "execution_count": 50,
   "metadata": {},
   "outputs": [],
   "source": [
    "df_main.drop(columns=['Ten Pays - Un 1', 'Ten Pays - Un 2', 'Ten Pays - Un 3', 'Ten Pays - Un 4'], inplace=True)"
   ]
  },
  {
   "cell_type": "code",
   "execution_count": 51,
   "metadata": {},
   "outputs": [],
   "source": [
    "df_main['Total_BRs'] = df_main['BR_1']+df_main['BR_2']+df_main['BR_3']+df_main['BR_4']\n",
    "df_main['Total_Bath'] = df_main['# Full Baths-Unit 1']+df_main['# Full Baths-Unit 2']+df_main['# Full Baths-Unit 3']+df_main['# Full Baths-Unit 4']"
   ]
  },
  {
   "cell_type": "code",
   "execution_count": 52,
   "metadata": {},
   "outputs": [],
   "source": [
    "def transform_zip(cell):\n",
    "    old_cell = str(cell)\n",
    "    new_cell = old_cell[0:5]\n",
    "    return int(new_cell)"
   ]
  },
  {
   "cell_type": "code",
   "execution_count": 53,
   "metadata": {},
   "outputs": [],
   "source": [
    "df_main['Zip_Code'] = df_main['Zip'].map(transform_zip)"
   ]
  },
  {
   "cell_type": "code",
   "execution_count": 54,
   "metadata": {},
   "outputs": [],
   "source": [
    "df_main.drop(columns='Zip', inplace=True)"
   ]
  },
  {
   "cell_type": "code",
   "execution_count": 55,
   "metadata": {},
   "outputs": [],
   "source": [
    "zip_income = pd.read_excel('data/irs_mean_income_zip.xlsx')"
   ]
  },
  {
   "cell_type": "code",
   "execution_count": 56,
   "metadata": {},
   "outputs": [],
   "source": [
    "zip_income['Zip_Code'] = zip_income['Zip']\n",
    "zip_income.drop(columns='Zip', inplace=True)"
   ]
  },
  {
   "cell_type": "code",
   "execution_count": 57,
   "metadata": {},
   "outputs": [],
   "source": [
    "zip_df = zip_income.groupby('Zip_Code').mean()\n",
    "zip_df.reset_index(inplace=True)"
   ]
  },
  {
   "cell_type": "code",
   "execution_count": 58,
   "metadata": {},
   "outputs": [],
   "source": [
    "df_main = df_main.merge(zip_df, how='left', on='Zip_Code')"
   ]
  },
  {
   "cell_type": "code",
   "execution_count": 59,
   "metadata": {},
   "outputs": [],
   "source": [
    "df_main['Closed Date'] = pd.to_datetime(df_main['Closed Date'])"
   ]
  },
  {
   "cell_type": "code",
   "execution_count": 60,
   "metadata": {},
   "outputs": [],
   "source": [
    "def transform_tax(cell):\n",
    "    '''\n",
    "    This function removes $ and , from annual tax value.\n",
    "    '''\n",
    "    str_cell = str(cell)\n",
    "    new_cell = str_cell.replace(',', '').replace('$', '').replace('-', '')\n",
    "    cell_return = 0\n",
    "    try: \n",
    "        cell_return = int(round(float(new_cell), ndigits=0))\n",
    "        return cell_return\n",
    "    except (KeyError, ValueError):\n",
    "        return cell_return"
   ]
  },
  {
   "cell_type": "code",
   "execution_count": 61,
   "metadata": {},
   "outputs": [],
   "source": [
    "df_main['Taxes'][1474] = '4930.92'\n",
    "df_main['Taxes'] = df_main['Taxes'].map(transform_tax)"
   ]
  },
  {
   "cell_type": "code",
   "execution_count": 62,
   "metadata": {},
   "outputs": [],
   "source": [
    "drop_notax = list(df_main[df_main['Taxes'] < 1000].index)\n",
    "df_main.drop(index=drop_notax, inplace=True)"
   ]
  },
  {
   "cell_type": "code",
   "execution_count": 63,
   "metadata": {},
   "outputs": [],
   "source": [
    "df_main.dropna(subset=['Lat', 'Long', 'Mean Annual Income'], inplace=True)"
   ]
  },
  {
   "cell_type": "code",
   "execution_count": 64,
   "metadata": {},
   "outputs": [],
   "source": [
    "for n in range(0,4):\n",
    "    for i in df_main.index:\n",
    "        df_main['Mean Annual Income'][i] = int(round(df_main['Mean Annual Income'][i], ndigits=0))"
   ]
  },
  {
   "cell_type": "markdown",
   "metadata": {},
   "source": [
    "Monthly Interest Payment = Principle*(monthly interest rate'r'*(1+r)**(30*12) / (1+r)**(30*12) - 1"
   ]
  },
  {
   "cell_type": "code",
   "execution_count": 65,
   "metadata": {},
   "outputs": [
    {
     "data": {
      "text/plain": [
       "1436.943000988235"
      ]
     },
     "execution_count": 65,
     "metadata": {},
     "output_type": "execute_result"
    }
   ],
   "source": [
    "d = .2\n",
    "r = .035/12\n",
    "n = 360\n",
    "p = 400000\n",
    "l = p-(p*d)\n",
    "m = l*((r*(1+r)**n)/(((1+r)**n)-1))\n",
    "m"
   ]
  },
  {
   "cell_type": "code",
   "execution_count": 66,
   "metadata": {},
   "outputs": [],
   "source": [
    "df_main['Monthly_Profit'] = 0\n",
    "df_main['Monthly_P&I_20_Down'] = 0\n",
    "df_main['Monthly_Estimated_Ins'] = 0\n",
    "for n in range(0,4):\n",
    "    for i in df_main.index:\n",
    "        p = df_main['List Price'][i]*.8\n",
    "        r = .035/12\n",
    "        n = 360\n",
    "        df_main['Monthly_Estimated_Ins'][i] = (p*.005)/12\n",
    "        df_main['Monthly_P&I_20_Down'][i] = p*((r*(1+r)**n)/(((1+r)**n)-1))\n",
    "        df_main['Monthly_Profit'][i] = (df_main['Estimated NOI'][i]/12) - ((df_main['Taxes'][i]/12)+\\\n",
    "                                                                           df_main['Monthly_P&I_20_Down'][i]+\\\n",
    "                                                                           df_main['Monthly_Estimated_Ins'][i])"
   ]
  },
  {
   "cell_type": "code",
   "execution_count": 67,
   "metadata": {},
   "outputs": [],
   "source": [
    "df_main.dropna(inplace=True)"
   ]
  },
  {
   "cell_type": "code",
   "execution_count": 68,
   "metadata": {},
   "outputs": [],
   "source": [
    "df_main.reset_index(drop=True, inplace=True)"
   ]
  },
  {
   "cell_type": "code",
   "execution_count": 69,
   "metadata": {},
   "outputs": [
    {
     "data": {
      "text/html": [
       "<div>\n",
       "<style scoped>\n",
       "    .dataframe tbody tr th:only-of-type {\n",
       "        vertical-align: middle;\n",
       "    }\n",
       "\n",
       "    .dataframe tbody tr th {\n",
       "        vertical-align: top;\n",
       "    }\n",
       "\n",
       "    .dataframe thead th {\n",
       "        text-align: right;\n",
       "    }\n",
       "</style>\n",
       "<table border=\"1\" class=\"dataframe\">\n",
       "  <thead>\n",
       "    <tr style=\"text-align: right;\">\n",
       "      <th></th>\n",
       "      <th>MLS #</th>\n",
       "      <th>Parking</th>\n",
       "      <th># Garage Spaces</th>\n",
       "      <th># Parking Spaces</th>\n",
       "      <th>Tot # Units</th>\n",
       "      <th># Full Baths-Unit 1</th>\n",
       "      <th># Full Baths-Unit 2</th>\n",
       "      <th># Full Baths-Unit 3</th>\n",
       "      <th># Full Baths-Unit 4</th>\n",
       "      <th>Age</th>\n",
       "      <th>...</th>\n",
       "      <th>Estimated NOI</th>\n",
       "      <th>Total_BRs</th>\n",
       "      <th>Total_Bath</th>\n",
       "      <th>Zip_Code</th>\n",
       "      <th>Lat</th>\n",
       "      <th>Long</th>\n",
       "      <th>Mean Annual Income</th>\n",
       "      <th>Monthly_Profit</th>\n",
       "      <th>Monthly_P&amp;I_20_Down</th>\n",
       "      <th>Monthly_Estimated_Ins</th>\n",
       "    </tr>\n",
       "  </thead>\n",
       "  <tbody>\n",
       "    <tr>\n",
       "      <td>0</td>\n",
       "      <td>8711719</td>\n",
       "      <td>Garage</td>\n",
       "      <td>2.0</td>\n",
       "      <td>0.0</td>\n",
       "      <td>2</td>\n",
       "      <td>1.0</td>\n",
       "      <td>1.0</td>\n",
       "      <td>0.0</td>\n",
       "      <td>0.0</td>\n",
       "      <td>51 to 100 Yrs Old</td>\n",
       "      <td>...</td>\n",
       "      <td>11922</td>\n",
       "      <td>3.0</td>\n",
       "      <td>2.0</td>\n",
       "      <td>60185</td>\n",
       "      <td>41.883093</td>\n",
       "      <td>-88.194113</td>\n",
       "      <td>84376.0</td>\n",
       "      <td>258</td>\n",
       "      <td>395</td>\n",
       "      <td>36</td>\n",
       "    </tr>\n",
       "  </tbody>\n",
       "</table>\n",
       "<p>1 rows × 41 columns</p>\n",
       "</div>"
      ],
      "text/plain": [
       "     MLS # Parking  # Garage Spaces  # Parking Spaces  Tot # Units  \\\n",
       "0  8711719  Garage              2.0               0.0            2   \n",
       "\n",
       "   # Full Baths-Unit 1  # Full Baths-Unit 2  # Full Baths-Unit 3  \\\n",
       "0                  1.0                  1.0                  0.0   \n",
       "\n",
       "   # Full Baths-Unit 4                Age  ... Estimated NOI Total_BRs  \\\n",
       "0                  0.0  51 to 100 Yrs Old  ...         11922       3.0   \n",
       "\n",
       "  Total_Bath Zip_Code        Lat       Long  Mean Annual Income  \\\n",
       "0        2.0    60185  41.883093 -88.194113             84376.0   \n",
       "\n",
       "   Monthly_Profit  Monthly_P&I_20_Down Monthly_Estimated_Ins  \n",
       "0             258                  395                    36  \n",
       "\n",
       "[1 rows x 41 columns]"
      ]
     },
     "execution_count": 69,
     "metadata": {},
     "output_type": "execute_result"
    }
   ],
   "source": [
    "df_main.head(1)"
   ]
  },
  {
   "cell_type": "code",
   "execution_count": 70,
   "metadata": {},
   "outputs": [],
   "source": [
    "df_main = df_main.join(df_main.Amen.str.get_dummies(', '))"
   ]
  },
  {
   "cell_type": "code",
   "execution_count": 71,
   "metadata": {},
   "outputs": [],
   "source": [
    "df_main.drop(columns='None', inplace=True)"
   ]
  },
  {
   "cell_type": "code",
   "execution_count": 72,
   "metadata": {},
   "outputs": [],
   "source": [
    "df_main = df_main.join(df_main['Exterior Property Features'].str.get_dummies(', '))\n",
    "df_main.drop(columns='None', inplace=True)"
   ]
  },
  {
   "cell_type": "code",
   "execution_count": 73,
   "metadata": {},
   "outputs": [],
   "source": [
    "df_main = df_main.join(df_main.Rehab.str.get_dummies())\n",
    "df_main['Rehab'] = df_main['Yes']\n",
    "df_main.drop(columns=['No', 'Yes', 'Other'], inplace=True)"
   ]
  },
  {
   "cell_type": "code",
   "execution_count": 74,
   "metadata": {},
   "outputs": [],
   "source": [
    "df_main = df_main.join(df_main.Age.str.get_dummies())"
   ]
  },
  {
   "cell_type": "code",
   "execution_count": 75,
   "metadata": {},
   "outputs": [],
   "source": [
    "df_main.drop(columns='100+ Years Old', inplace=True)"
   ]
  },
  {
   "cell_type": "code",
   "execution_count": 76,
   "metadata": {},
   "outputs": [
    {
     "data": {
      "text/plain": [
       "['MLS #',\n",
       " 'Parking',\n",
       " '# Garage Spaces',\n",
       " '# Parking Spaces',\n",
       " 'Tot # Units',\n",
       " '# Full Baths-Unit 1',\n",
       " '# Full Baths-Unit 2',\n",
       " '# Full Baths-Unit 3',\n",
       " '# Full Baths-Unit 4',\n",
       " 'Age',\n",
       " 'Amen',\n",
       " 'City',\n",
       " 'Closed Date',\n",
       " 'County',\n",
       " 'Exterior',\n",
       " 'Exterior Property Features',\n",
       " 'HS Dist',\n",
       " 'List Price',\n",
       " 'MT',\n",
       " 'Rehab',\n",
       " 'Taxes',\n",
       " 'Rent_1',\n",
       " 'Rent_2',\n",
       " 'Rent_3',\n",
       " 'Rent_4',\n",
       " 'BR_1',\n",
       " 'BR_2',\n",
       " 'BR_3',\n",
       " 'BR_4',\n",
       " 'Total_Rent_Monthly',\n",
       " 'Total_Rent_Annual',\n",
       " 'Estimated NOI',\n",
       " 'Total_BRs',\n",
       " 'Total_Bath',\n",
       " 'Zip_Code',\n",
       " 'Lat',\n",
       " 'Long',\n",
       " 'Mean Annual Income',\n",
       " 'Monthly_Profit',\n",
       " 'Monthly_P&I_20_Down',\n",
       " 'Monthly_Estimated_Ins',\n",
       " 'Clubhouse',\n",
       " 'Curbs/Gutters',\n",
       " 'Dock-Community',\n",
       " 'Gated Entry',\n",
       " 'Horse-Community Barn',\n",
       " 'Horse-Riding Area',\n",
       " 'Park/Playground',\n",
       " 'Pond/Lake',\n",
       " 'Pool',\n",
       " 'Sidewalks',\n",
       " 'Street Lights',\n",
       " 'Street Paved',\n",
       " 'Tennis Courts',\n",
       " 'Water Rights',\n",
       " 'Balcony',\n",
       " 'Breezeway',\n",
       " 'Brick Paver Patio',\n",
       " 'Cable Access',\n",
       " 'Deck',\n",
       " 'Dog Run',\n",
       " 'Door Monitored By TV',\n",
       " 'Fire Pit',\n",
       " 'Hot Tub',\n",
       " 'Master Antenna',\n",
       " 'Outdoor Grill',\n",
       " 'Patio',\n",
       " 'Pool Above Ground',\n",
       " 'Pool In-Ground',\n",
       " 'Porch',\n",
       " 'Porch Screened',\n",
       " 'Roof Deck',\n",
       " 'Screened Deck',\n",
       " 'Screened Patio',\n",
       " 'Stamped Concrete Patio',\n",
       " 'Storms/Screens',\n",
       " 'Workshop',\n",
       " '1 to 25 Yrs Old',\n",
       " '26 to 50 Yrs Old',\n",
       " '51 to 100 Yrs Old']"
      ]
     },
     "execution_count": 76,
     "metadata": {},
     "output_type": "execute_result"
    }
   ],
   "source": [
    "columns = list(df_main.columns)\n",
    "columns"
   ]
  },
  {
   "cell_type": "code",
   "execution_count": 79,
   "metadata": {},
   "outputs": [],
   "source": [
    "df_11_sub = df_main[(df_main['Closed Date'].dt.year >= 2011) & (df_main['City'] != 'Chicago')]\n",
    "df_11_sub.reset_index(drop=True, inplace=True)"
   ]
  },
  {
   "cell_type": "code",
   "execution_count": 80,
   "metadata": {},
   "outputs": [],
   "source": [
    "df_11_chi = df_main[(df_main['Closed Date'].dt.year >= 2011) & (df_main['City'] == 'Chicago')]\n",
    "df_11_chi.reset_index(drop=True, inplace=True)"
   ]
  },
  {
   "cell_type": "code",
   "execution_count": 81,
   "metadata": {},
   "outputs": [],
   "source": [
    "model_columns = ['# Garage Spaces', '# Parking Spaces', 'Total_BRs', 'Total_Bath', 'Rehab',\n",
    "                 'Gated Entry', 'Park/Playground', 'Pond/Lake', 'Pool', 'Tennis Courts', 'Balcony', 'Deck',\n",
    "                 'Door Monitored By TV', 'Fire Pit', 'Hot Tub', 'Outdoor Grill', 'Patio', 'Porch', 'Roof Deck',\n",
    "                 'Screened Deck', 'Screened Patio', '1 to 25 Yrs Old', '26 to 50 Yrs Old', '51 to 100 Yrs Old',\n",
    "                 'Mean Annual Income', 'List Price', 'Monthly_Profit']"
   ]
  },
  {
   "cell_type": "code",
   "execution_count": 82,
   "metadata": {},
   "outputs": [],
   "source": [
    "df_11_sub[model_columns].to_pickle(\"2011 to 2019 Multiunit Chicago Suburbs.pkl\")\n",
    "df_11_chi[model_columns].to_pickle(\"2011 to 2019 Multiunit Chicago City.pkl\")"
   ]
  },
  {
   "cell_type": "code",
   "execution_count": 253,
   "metadata": {},
   "outputs": [],
   "source": [
    "df_15 = df_main[df_main['Closed Date'].dt.year >= 2015]\n",
    "df_15.reset_index(drop=True, inplace=True)"
   ]
  },
  {
   "cell_type": "code",
   "execution_count": 264,
   "metadata": {},
   "outputs": [
    {
     "data": {
      "text/plain": [
       "0.1469359331476323"
      ]
     },
     "execution_count": 264,
     "metadata": {},
     "output_type": "execute_result"
    }
   ],
   "source": [
    "len(df_main[(df_main['City'] == 'Chicago') & (df_main['Monthly_Profit'] > 0)])/len(df_main[df_main['City'] == 'Chicago'])"
   ]
  },
  {
   "cell_type": "code",
   "execution_count": 266,
   "metadata": {},
   "outputs": [
    {
     "data": {
      "text/plain": [
       "0.4056695992179863"
      ]
     },
     "execution_count": 266,
     "metadata": {},
     "output_type": "execute_result"
    }
   ],
   "source": [
    "len(df_main[(df_main['City'] != 'Chicago') & (df_main['Monthly_Profit'] > 0)])/len(df_main[df_main['City'] != 'Chicago'])"
   ]
  },
  {
   "cell_type": "code",
   "execution_count": 287,
   "metadata": {},
   "outputs": [
    {
     "data": {
      "text/plain": [
       "51 to 100 Yrs Old    2972\n",
       "100+ Years Old       2512\n",
       "26 to 50 Yrs Old      178\n",
       "1 to 25 Yrs Old        82\n",
       "Name: Age, dtype: int64"
      ]
     },
     "execution_count": 287,
     "metadata": {},
     "output_type": "execute_result"
    }
   ],
   "source": [
    "df_main[df_main['City'] == 'Chicago']['Age'].value_counts()"
   ]
  },
  {
   "cell_type": "code",
   "execution_count": 288,
   "metadata": {},
   "outputs": [
    {
     "data": {
      "text/plain": [
       "51 to 100 Yrs Old    1090\n",
       "26 to 50 Yrs Old      511\n",
       "100+ Years Old        415\n",
       "1 to 25 Yrs Old        30\n",
       "Name: Age, dtype: int64"
      ]
     },
     "execution_count": 288,
     "metadata": {},
     "output_type": "execute_result"
    }
   ],
   "source": [
    "df_main[df_main['City'] != 'Chicago']['Age'].value_counts()"
   ]
  },
  {
   "cell_type": "code",
   "execution_count": 291,
   "metadata": {},
   "outputs": [
    {
     "data": {
      "text/plain": [
       "2046"
      ]
     },
     "execution_count": 291,
     "metadata": {},
     "output_type": "execute_result"
    }
   ],
   "source": [
    "df_main[df_main['City'] != 'Chicago']['Age'].value_counts().sum()"
   ]
  },
  {
   "cell_type": "code",
   "execution_count": 292,
   "metadata": {},
   "outputs": [
    {
     "data": {
      "text/plain": [
       "0.7355816226783969"
      ]
     },
     "execution_count": 292,
     "metadata": {},
     "output_type": "execute_result"
    }
   ],
   "source": [
    "(1090+415)/2046"
   ]
  },
  {
   "cell_type": "code",
   "execution_count": 271,
   "metadata": {},
   "outputs": [],
   "source": [
    "import matplotlib.pyplot as plt\n",
    "import seaborn as sns"
   ]
  },
  {
   "cell_type": "code",
   "execution_count": 294,
   "metadata": {},
   "outputs": [
    {
     "data": {
      "image/png": "[encoded data removed]",
      "text/plain": [
       "<Figure size 432x288 with 1 Axes>"
      ]
     },
     "metadata": {
      "needs_background": "light"
     },
     "output_type": "display_data"
    }
   ],
   "source": [
    "sns.distplot(df_main['Tot # Units']);"
   ]
  },
  {
   "cell_type": "code",
   "execution_count": null,
   "metadata": {},
   "outputs": [],
   "source": []
  }
 ],
 "metadata": {
  "kernelspec": {
   "display_name": "Python 3",
   "language": "python",
   "name": "python3"
  },
  "language_info": {
   "codemirror_mode": {
    "name": "ipython",
    "version": 3
   },
   "file_extension": ".py",
   "mimetype": "text/x-python",
   "name": "python",
   "nbconvert_exporter": "python",
   "pygments_lexer": "ipython3",
   "version": "3.7.4"
  }
 },
 "nbformat": 4,
 "nbformat_minor": 4
}
