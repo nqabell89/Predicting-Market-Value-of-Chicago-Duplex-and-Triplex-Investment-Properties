{
 "cells": [
  {
   "cell_type": "markdown",
   "metadata": {},
   "source": [
    "# Multiple Linear Regression Project - Chicagoland Real Estate\n",
    "\n",
    "\n",
    "## Modelling the Relationship Between Sale Price, Property Features, and Cash Flow\n",
    "\n",
    "\n"
   ]
  },
  {
   "cell_type": "markdown",
   "metadata": {},
   "source": [
    "## Project Overview\n",
    "\n",
    "\n",
    "The aim of this project is to explore Chicagoland-area real estate data, and to predict the value of a 2-4 unit apartment building based on a handful of reported features, as well as some engineered features; specifically the estimated monthly cash flow of the property given a set of assumptions.\n",
    "\n"
   ]
  },
  {
   "cell_type": "markdown",
   "metadata": {},
   "source": [
    "###  Multiple Linear Regression\n",
    "\n",
    "\n",
    "Linear Regression is a statistical technique which is used to find the linear relationship between dependent and one or more independent variables. This technique is applicable for supervised learning regression problems where we try to predict a continuous variable.\n",
    "\n",
    "Linear Regression can be further classified into two types – Simple and Multiple Linear Regression. In this project, I employ a Multiple Linear Regression technique where I have multiple independent variables, and one dependent, or \"target\", variable. It is the simplest form of Regression where we find the \"best fit\" straight line to predict values of new data based on existing data."
   ]
  },
  {
   "cell_type": "markdown",
   "metadata": {},
   "source": [
    "## The Problem\n",
    "\n",
    "2-4 unit apartment builds have been a popular investment for many individuals in the Chicagoland area. There are many reasons for this;\n",
    "1. They can be purchased with traditional mortgage loans, and are therefore more accessible to individual investors.\n",
    "2. If you find a good deal, you can generate cash flow on a monthly basis from rental income.\n",
    "3. They give you flexiblity; many investors choose to live in one of the units in their building.\n",
    "\n",
    "Due to increasing real estate costs, increasing property tax, and a supply/demand inbalance in favor of sellers, the number of good deals in this category (2-4 units) are few and far between.\n",
    "\n",
    "This project seeks to answer two questions;\n",
    "1. Is it possible to use property features and estimated cash flow to predict a 'fair' sale price for an apartment building?\n",
    "2. How does estimated monthly cash flow relate to sale price?\n"
   ]
  },
  {
   "cell_type": "markdown",
   "metadata": {},
   "source": [
    "## Software Information\n",
    "\n",
    "This project uses Python 3.0 in Anaconda's Jupyter Notebook environment."
   ]
  },
  {
   "cell_type": "markdown",
   "metadata": {},
   "source": [
    "## Python Libraries\n",
    "\n",
    "The basic Python libraries used in this project are:-\n",
    "\n",
    " •\tNumpy – A library that provides a fast numerical array structure with powerful operating functions.\n",
    " \n",
    " •\tPandas – A library that provides tools for data storage, manipulation, and analysis tasks.\n",
    " \n",
    " •\tScikit-Learn – A machine learning library in Python.\n",
    " \n",
    " •\tMatplotlib – The basic plotting library in Python. It provides tools for visualizing data.\n",
    " \n",
    " •\tSeaborn – An advanced plotting library built on Matplotlib. It provides tools for making some advanced regression plots.\n",
    " \n",
    " •\tSciPy – A library with a wide range of mathematical formulas.\n",
    " \n",
    " •\tPickle – A library that allows for packaging and compressing of Pandas dataframes. Need this to access the dataset.\n"
   ]
  },
  {
   "cell_type": "code",
   "execution_count": 141,
   "metadata": {},
   "outputs": [],
   "source": [
    "# Import necessary libraries\n",
    "\n",
    "import pickle\n",
    "import numpy as np\n",
    "from scipy import stats\n",
    "import pandas as pd\n",
    "import matplotlib.pyplot as plt\n",
    "%matplotlib inline\n",
    "import seaborn as sns\n",
    "import warnings\n",
    "warnings.filterwarnings(\"ignore\")\n"
   ]
  },
  {
   "cell_type": "markdown",
   "metadata": {},
   "source": [
    "## About the Dataset\n",
    "\n",
    "The data was downloaded from MRED MLS, the official real estate database used by real estate appraisers, agents, and investors.\n",
    "\n",
    "A subscription is required to log in;\n",
    "https://connectmls-api.mredllc.com/\n",
    "\n",
    "The data includes 5891 2-4 unit properties, sold from 2012 to 2019, in the Chicagoland area (to exclude the South, South West, and West sides of Chicago)."
   ]
  },
  {
   "cell_type": "code",
   "execution_count": 195,
   "metadata": {},
   "outputs": [],
   "source": [
    "# Import the data\n",
    "\n",
    "df_original = pd.read_pickle('2012 to 2019 Multiunit Chicagoland.pkl')\n",
    "df = df_original.copy()"
   ]
  },
  {
   "cell_type": "markdown",
   "metadata": {},
   "source": [
    "## Exploratory Data Analysis\n",
    "\n",
    "### Shape and Features\n",
    "\n",
    "The shape of the data shows that there are 5891 'observations', and 27 hand picked features. Some of the features are dummy variables for attributes of the building, like amenities and the age of the building. Some features were calculated using outside data sources. More info on the custom features below."
   ]
  },
  {
   "cell_type": "code",
   "execution_count": 196,
   "metadata": {},
   "outputs": [
    {
     "name": "stdout",
     "output_type": "stream",
     "text": [
      "Shape of the data: Rows - 5891, Columns - 27\n"
     ]
    }
   ],
   "source": [
    "# View the number of rows and columns in df\n",
    "\n",
    "print(f'Shape of the data: Rows - {df.shape[0]}, Columns - {df.shape[1]}')"
   ]
  },
  {
   "cell_type": "code",
   "execution_count": 197,
   "metadata": {},
   "outputs": [
    {
     "data": {
      "text/html": [
       "<div>\n",
       "<style scoped>\n",
       "    .dataframe tbody tr th:only-of-type {\n",
       "        vertical-align: middle;\n",
       "    }\n",
       "\n",
       "    .dataframe tbody tr th {\n",
       "        vertical-align: top;\n",
       "    }\n",
       "\n",
       "    .dataframe thead th {\n",
       "        text-align: right;\n",
       "    }\n",
       "</style>\n",
       "<table border=\"1\" class=\"dataframe\">\n",
       "  <thead>\n",
       "    <tr style=\"text-align: right;\">\n",
       "      <th></th>\n",
       "      <th># Garage Spaces</th>\n",
       "      <th># Parking Spaces</th>\n",
       "      <th>Total_BRs</th>\n",
       "      <th>Total_Bath</th>\n",
       "      <th>Rehab</th>\n",
       "      <th>Gated Entry</th>\n",
       "      <th>Park/Playground</th>\n",
       "      <th>Pond/Lake</th>\n",
       "      <th>Pool</th>\n",
       "      <th>Tennis Courts</th>\n",
       "      <th>...</th>\n",
       "      <th>Porch</th>\n",
       "      <th>Roof Deck</th>\n",
       "      <th>Screened Deck</th>\n",
       "      <th>Screened Patio</th>\n",
       "      <th>1 to 25 Yrs Old</th>\n",
       "      <th>26 to 50 Yrs Old</th>\n",
       "      <th>51 to 100 Yrs Old</th>\n",
       "      <th>Mean Annual Income</th>\n",
       "      <th>List Price</th>\n",
       "      <th>Monthly_Profit</th>\n",
       "    </tr>\n",
       "  </thead>\n",
       "  <tbody>\n",
       "    <tr>\n",
       "      <td>0</td>\n",
       "      <td>2.0</td>\n",
       "      <td>0.0</td>\n",
       "      <td>3.0</td>\n",
       "      <td>2.0</td>\n",
       "      <td>0</td>\n",
       "      <td>0</td>\n",
       "      <td>0</td>\n",
       "      <td>0</td>\n",
       "      <td>0</td>\n",
       "      <td>0</td>\n",
       "      <td>...</td>\n",
       "      <td>0</td>\n",
       "      <td>0</td>\n",
       "      <td>0</td>\n",
       "      <td>0</td>\n",
       "      <td>0</td>\n",
       "      <td>0</td>\n",
       "      <td>1</td>\n",
       "      <td>84376.0</td>\n",
       "      <td>110000</td>\n",
       "      <td>258</td>\n",
       "    </tr>\n",
       "    <tr>\n",
       "      <td>1</td>\n",
       "      <td>1.0</td>\n",
       "      <td>0.0</td>\n",
       "      <td>4.0</td>\n",
       "      <td>2.0</td>\n",
       "      <td>0</td>\n",
       "      <td>0</td>\n",
       "      <td>0</td>\n",
       "      <td>0</td>\n",
       "      <td>0</td>\n",
       "      <td>0</td>\n",
       "      <td>...</td>\n",
       "      <td>0</td>\n",
       "      <td>0</td>\n",
       "      <td>0</td>\n",
       "      <td>0</td>\n",
       "      <td>0</td>\n",
       "      <td>1</td>\n",
       "      <td>0</td>\n",
       "      <td>76044.0</td>\n",
       "      <td>180000</td>\n",
       "      <td>-357</td>\n",
       "    </tr>\n",
       "    <tr>\n",
       "      <td>2</td>\n",
       "      <td>0.0</td>\n",
       "      <td>3.0</td>\n",
       "      <td>4.0</td>\n",
       "      <td>2.0</td>\n",
       "      <td>0</td>\n",
       "      <td>0</td>\n",
       "      <td>0</td>\n",
       "      <td>0</td>\n",
       "      <td>0</td>\n",
       "      <td>0</td>\n",
       "      <td>...</td>\n",
       "      <td>0</td>\n",
       "      <td>0</td>\n",
       "      <td>0</td>\n",
       "      <td>0</td>\n",
       "      <td>0</td>\n",
       "      <td>0</td>\n",
       "      <td>1</td>\n",
       "      <td>69674.0</td>\n",
       "      <td>149900</td>\n",
       "      <td>23</td>\n",
       "    </tr>\n",
       "    <tr>\n",
       "      <td>3</td>\n",
       "      <td>0.0</td>\n",
       "      <td>3.0</td>\n",
       "      <td>3.0</td>\n",
       "      <td>2.0</td>\n",
       "      <td>0</td>\n",
       "      <td>0</td>\n",
       "      <td>0</td>\n",
       "      <td>0</td>\n",
       "      <td>0</td>\n",
       "      <td>0</td>\n",
       "      <td>...</td>\n",
       "      <td>0</td>\n",
       "      <td>0</td>\n",
       "      <td>0</td>\n",
       "      <td>0</td>\n",
       "      <td>0</td>\n",
       "      <td>0</td>\n",
       "      <td>1</td>\n",
       "      <td>82088.0</td>\n",
       "      <td>159000</td>\n",
       "      <td>644</td>\n",
       "    </tr>\n",
       "    <tr>\n",
       "      <td>4</td>\n",
       "      <td>3.0</td>\n",
       "      <td>0.0</td>\n",
       "      <td>4.0</td>\n",
       "      <td>2.0</td>\n",
       "      <td>0</td>\n",
       "      <td>0</td>\n",
       "      <td>0</td>\n",
       "      <td>0</td>\n",
       "      <td>0</td>\n",
       "      <td>0</td>\n",
       "      <td>...</td>\n",
       "      <td>0</td>\n",
       "      <td>0</td>\n",
       "      <td>0</td>\n",
       "      <td>0</td>\n",
       "      <td>0</td>\n",
       "      <td>0</td>\n",
       "      <td>1</td>\n",
       "      <td>82088.0</td>\n",
       "      <td>205000</td>\n",
       "      <td>-111</td>\n",
       "    </tr>\n",
       "  </tbody>\n",
       "</table>\n",
       "<p>5 rows × 27 columns</p>\n",
       "</div>"
      ],
      "text/plain": [
       "   # Garage Spaces  # Parking Spaces  Total_BRs  Total_Bath  Rehab  \\\n",
       "0              2.0               0.0        3.0         2.0      0   \n",
       "1              1.0               0.0        4.0         2.0      0   \n",
       "2              0.0               3.0        4.0         2.0      0   \n",
       "3              0.0               3.0        3.0         2.0      0   \n",
       "4              3.0               0.0        4.0         2.0      0   \n",
       "\n",
       "   Gated Entry  Park/Playground  Pond/Lake  Pool  Tennis Courts  ...  Porch  \\\n",
       "0            0                0          0     0              0  ...      0   \n",
       "1            0                0          0     0              0  ...      0   \n",
       "2            0                0          0     0              0  ...      0   \n",
       "3            0                0          0     0              0  ...      0   \n",
       "4            0                0          0     0              0  ...      0   \n",
       "\n",
       "   Roof Deck  Screened Deck  Screened Patio  1 to 25 Yrs Old  \\\n",
       "0          0              0               0                0   \n",
       "1          0              0               0                0   \n",
       "2          0              0               0                0   \n",
       "3          0              0               0                0   \n",
       "4          0              0               0                0   \n",
       "\n",
       "   26 to 50 Yrs Old  51 to 100 Yrs Old  Mean Annual Income  List Price  \\\n",
       "0                 0                  1             84376.0      110000   \n",
       "1                 1                  0             76044.0      180000   \n",
       "2                 0                  1             69674.0      149900   \n",
       "3                 0                  1             82088.0      159000   \n",
       "4                 0                  1             82088.0      205000   \n",
       "\n",
       "   Monthly_Profit  \n",
       "0             258  \n",
       "1            -357  \n",
       "2              23  \n",
       "3             644  \n",
       "4            -111  \n",
       "\n",
       "[5 rows x 27 columns]"
      ]
     },
     "execution_count": 197,
     "metadata": {},
     "output_type": "execute_result"
    }
   ],
   "source": [
    "# View the top 5 rows of df\n",
    "\n",
    "df.head(5)"
   ]
  },
  {
   "cell_type": "code",
   "execution_count": 198,
   "metadata": {},
   "outputs": [
    {
     "name": "stdout",
     "output_type": "stream",
     "text": [
      "<class 'pandas.core.frame.DataFrame'>\n",
      "RangeIndex: 5891 entries, 0 to 5890\n",
      "Data columns (total 27 columns):\n",
      "# Garage Spaces         5891 non-null float64\n",
      "# Parking Spaces        5891 non-null float64\n",
      "Total_BRs               5891 non-null float64\n",
      "Total_Bath              5891 non-null float64\n",
      "Rehab                   5891 non-null int64\n",
      "Gated Entry             5891 non-null int64\n",
      "Park/Playground         5891 non-null int64\n",
      "Pond/Lake               5891 non-null int64\n",
      "Pool                    5891 non-null int64\n",
      "Tennis Courts           5891 non-null int64\n",
      "Balcony                 5891 non-null int64\n",
      "Deck                    5891 non-null int64\n",
      "Door Monitored By TV    5891 non-null int64\n",
      "Fire Pit                5891 non-null int64\n",
      "Hot Tub                 5891 non-null int64\n",
      "Outdoor Grill           5891 non-null int64\n",
      "Patio                   5891 non-null int64\n",
      "Porch                   5891 non-null int64\n",
      "Roof Deck               5891 non-null int64\n",
      "Screened Deck           5891 non-null int64\n",
      "Screened Patio          5891 non-null int64\n",
      "1 to 25 Yrs Old         5891 non-null int64\n",
      "26 to 50 Yrs Old        5891 non-null int64\n",
      "51 to 100 Yrs Old       5891 non-null int64\n",
      "Mean Annual Income      5891 non-null float64\n",
      "List Price              5891 non-null int64\n",
      "Monthly_Profit          5891 non-null int64\n",
      "dtypes: float64(5), int64(22)\n",
      "memory usage: 1.2 MB\n"
     ]
    }
   ],
   "source": [
    "# View dataframe summary\n",
    "\n",
    "df.info()"
   ]
  },
  {
   "cell_type": "code",
   "execution_count": 199,
   "metadata": {},
   "outputs": [
    {
     "data": {
      "text/html": [
       "<div>\n",
       "<style scoped>\n",
       "    .dataframe tbody tr th:only-of-type {\n",
       "        vertical-align: middle;\n",
       "    }\n",
       "\n",
       "    .dataframe tbody tr th {\n",
       "        vertical-align: top;\n",
       "    }\n",
       "\n",
       "    .dataframe thead th {\n",
       "        text-align: right;\n",
       "    }\n",
       "</style>\n",
       "<table border=\"1\" class=\"dataframe\">\n",
       "  <thead>\n",
       "    <tr style=\"text-align: right;\">\n",
       "      <th></th>\n",
       "      <th># Garage Spaces</th>\n",
       "      <th># Parking Spaces</th>\n",
       "      <th>Total_BRs</th>\n",
       "      <th>Total_Bath</th>\n",
       "      <th>Rehab</th>\n",
       "      <th>Gated Entry</th>\n",
       "      <th>Park/Playground</th>\n",
       "      <th>Pond/Lake</th>\n",
       "      <th>Pool</th>\n",
       "      <th>Tennis Courts</th>\n",
       "      <th>...</th>\n",
       "      <th>Porch</th>\n",
       "      <th>Roof Deck</th>\n",
       "      <th>Screened Deck</th>\n",
       "      <th>Screened Patio</th>\n",
       "      <th>1 to 25 Yrs Old</th>\n",
       "      <th>26 to 50 Yrs Old</th>\n",
       "      <th>51 to 100 Yrs Old</th>\n",
       "      <th>Mean Annual Income</th>\n",
       "      <th>List Price</th>\n",
       "      <th>Monthly_Profit</th>\n",
       "    </tr>\n",
       "  </thead>\n",
       "  <tbody>\n",
       "    <tr>\n",
       "      <td>count</td>\n",
       "      <td>5891.000000</td>\n",
       "      <td>5891.000000</td>\n",
       "      <td>5891.000000</td>\n",
       "      <td>5891.000000</td>\n",
       "      <td>5891.000000</td>\n",
       "      <td>5891.000000</td>\n",
       "      <td>5891.000000</td>\n",
       "      <td>5891.000000</td>\n",
       "      <td>5891.000000</td>\n",
       "      <td>5891.000000</td>\n",
       "      <td>...</td>\n",
       "      <td>5891.000000</td>\n",
       "      <td>5891.000000</td>\n",
       "      <td>5891.000000</td>\n",
       "      <td>5891.000000</td>\n",
       "      <td>5891.000000</td>\n",
       "      <td>5891.000000</td>\n",
       "      <td>5891.000000</td>\n",
       "      <td>5891.000000</td>\n",
       "      <td>5.891000e+03</td>\n",
       "      <td>5891.000000</td>\n",
       "    </tr>\n",
       "    <tr>\n",
       "      <td>mean</td>\n",
       "      <td>1.601731</td>\n",
       "      <td>0.958072</td>\n",
       "      <td>5.991682</td>\n",
       "      <td>3.091326</td>\n",
       "      <td>0.324733</td>\n",
       "      <td>0.038703</td>\n",
       "      <td>0.118656</td>\n",
       "      <td>0.005602</td>\n",
       "      <td>0.020879</td>\n",
       "      <td>0.022407</td>\n",
       "      <td>...</td>\n",
       "      <td>0.127483</td>\n",
       "      <td>0.013071</td>\n",
       "      <td>0.000679</td>\n",
       "      <td>0.000849</td>\n",
       "      <td>0.012562</td>\n",
       "      <td>0.079613</td>\n",
       "      <td>0.501952</td>\n",
       "      <td>84111.866406</td>\n",
       "      <td>5.375888e+05</td>\n",
       "      <td>-742.142930</td>\n",
       "    </tr>\n",
       "    <tr>\n",
       "      <td>std</td>\n",
       "      <td>1.095791</td>\n",
       "      <td>1.934437</td>\n",
       "      <td>1.923609</td>\n",
       "      <td>1.230958</td>\n",
       "      <td>0.468315</td>\n",
       "      <td>0.192903</td>\n",
       "      <td>0.323410</td>\n",
       "      <td>0.074641</td>\n",
       "      <td>0.142992</td>\n",
       "      <td>0.148016</td>\n",
       "      <td>...</td>\n",
       "      <td>0.333541</td>\n",
       "      <td>0.113588</td>\n",
       "      <td>0.026051</td>\n",
       "      <td>0.029123</td>\n",
       "      <td>0.111382</td>\n",
       "      <td>0.270716</td>\n",
       "      <td>0.500039</td>\n",
       "      <td>17159.313446</td>\n",
       "      <td>2.995448e+05</td>\n",
       "      <td>13959.906793</td>\n",
       "    </tr>\n",
       "    <tr>\n",
       "      <td>min</td>\n",
       "      <td>0.000000</td>\n",
       "      <td>0.000000</td>\n",
       "      <td>2.000000</td>\n",
       "      <td>1.000000</td>\n",
       "      <td>0.000000</td>\n",
       "      <td>0.000000</td>\n",
       "      <td>0.000000</td>\n",
       "      <td>0.000000</td>\n",
       "      <td>0.000000</td>\n",
       "      <td>0.000000</td>\n",
       "      <td>...</td>\n",
       "      <td>0.000000</td>\n",
       "      <td>0.000000</td>\n",
       "      <td>0.000000</td>\n",
       "      <td>0.000000</td>\n",
       "      <td>0.000000</td>\n",
       "      <td>0.000000</td>\n",
       "      <td>0.000000</td>\n",
       "      <td>30057.000000</td>\n",
       "      <td>0.000000e+00</td>\n",
       "      <td>-811696.000000</td>\n",
       "    </tr>\n",
       "    <tr>\n",
       "      <td>25%</td>\n",
       "      <td>0.000000</td>\n",
       "      <td>0.000000</td>\n",
       "      <td>4.000000</td>\n",
       "      <td>2.000000</td>\n",
       "      <td>0.000000</td>\n",
       "      <td>0.000000</td>\n",
       "      <td>0.000000</td>\n",
       "      <td>0.000000</td>\n",
       "      <td>0.000000</td>\n",
       "      <td>0.000000</td>\n",
       "      <td>...</td>\n",
       "      <td>0.000000</td>\n",
       "      <td>0.000000</td>\n",
       "      <td>0.000000</td>\n",
       "      <td>0.000000</td>\n",
       "      <td>0.000000</td>\n",
       "      <td>0.000000</td>\n",
       "      <td>0.000000</td>\n",
       "      <td>71500.000000</td>\n",
       "      <td>3.490000e+05</td>\n",
       "      <td>-841.000000</td>\n",
       "    </tr>\n",
       "    <tr>\n",
       "      <td>50%</td>\n",
       "      <td>2.000000</td>\n",
       "      <td>0.000000</td>\n",
       "      <td>6.000000</td>\n",
       "      <td>3.000000</td>\n",
       "      <td>0.000000</td>\n",
       "      <td>0.000000</td>\n",
       "      <td>0.000000</td>\n",
       "      <td>0.000000</td>\n",
       "      <td>0.000000</td>\n",
       "      <td>0.000000</td>\n",
       "      <td>...</td>\n",
       "      <td>0.000000</td>\n",
       "      <td>0.000000</td>\n",
       "      <td>0.000000</td>\n",
       "      <td>0.000000</td>\n",
       "      <td>0.000000</td>\n",
       "      <td>0.000000</td>\n",
       "      <td>1.000000</td>\n",
       "      <td>76044.000000</td>\n",
       "      <td>4.690000e+05</td>\n",
       "      <td>-429.000000</td>\n",
       "    </tr>\n",
       "    <tr>\n",
       "      <td>75%</td>\n",
       "      <td>2.000000</td>\n",
       "      <td>1.000000</td>\n",
       "      <td>7.000000</td>\n",
       "      <td>4.000000</td>\n",
       "      <td>1.000000</td>\n",
       "      <td>0.000000</td>\n",
       "      <td>0.000000</td>\n",
       "      <td>0.000000</td>\n",
       "      <td>0.000000</td>\n",
       "      <td>0.000000</td>\n",
       "      <td>...</td>\n",
       "      <td>0.000000</td>\n",
       "      <td>0.000000</td>\n",
       "      <td>0.000000</td>\n",
       "      <td>0.000000</td>\n",
       "      <td>0.000000</td>\n",
       "      <td>0.000000</td>\n",
       "      <td>1.000000</td>\n",
       "      <td>99265.000000</td>\n",
       "      <td>6.746750e+05</td>\n",
       "      <td>-39.000000</td>\n",
       "    </tr>\n",
       "    <tr>\n",
       "      <td>max</td>\n",
       "      <td>12.000000</td>\n",
       "      <td>18.000000</td>\n",
       "      <td>15.000000</td>\n",
       "      <td>11.000000</td>\n",
       "      <td>1.000000</td>\n",
       "      <td>1.000000</td>\n",
       "      <td>1.000000</td>\n",
       "      <td>1.000000</td>\n",
       "      <td>1.000000</td>\n",
       "      <td>1.000000</td>\n",
       "      <td>...</td>\n",
       "      <td>1.000000</td>\n",
       "      <td>1.000000</td>\n",
       "      <td>1.000000</td>\n",
       "      <td>1.000000</td>\n",
       "      <td>1.000000</td>\n",
       "      <td>1.000000</td>\n",
       "      <td>1.000000</td>\n",
       "      <td>180180.000000</td>\n",
       "      <td>2.995000e+06</td>\n",
       "      <td>22628.000000</td>\n",
       "    </tr>\n",
       "  </tbody>\n",
       "</table>\n",
       "<p>8 rows × 27 columns</p>\n",
       "</div>"
      ],
      "text/plain": [
       "       # Garage Spaces  # Parking Spaces    Total_BRs   Total_Bath  \\\n",
       "count      5891.000000       5891.000000  5891.000000  5891.000000   \n",
       "mean          1.601731          0.958072     5.991682     3.091326   \n",
       "std           1.095791          1.934437     1.923609     1.230958   \n",
       "min           0.000000          0.000000     2.000000     1.000000   \n",
       "25%           0.000000          0.000000     4.000000     2.000000   \n",
       "50%           2.000000          0.000000     6.000000     3.000000   \n",
       "75%           2.000000          1.000000     7.000000     4.000000   \n",
       "max          12.000000         18.000000    15.000000    11.000000   \n",
       "\n",
       "             Rehab  Gated Entry  Park/Playground    Pond/Lake         Pool  \\\n",
       "count  5891.000000  5891.000000      5891.000000  5891.000000  5891.000000   \n",
       "mean      0.324733     0.038703         0.118656     0.005602     0.020879   \n",
       "std       0.468315     0.192903         0.323410     0.074641     0.142992   \n",
       "min       0.000000     0.000000         0.000000     0.000000     0.000000   \n",
       "25%       0.000000     0.000000         0.000000     0.000000     0.000000   \n",
       "50%       0.000000     0.000000         0.000000     0.000000     0.000000   \n",
       "75%       1.000000     0.000000         0.000000     0.000000     0.000000   \n",
       "max       1.000000     1.000000         1.000000     1.000000     1.000000   \n",
       "\n",
       "       Tennis Courts  ...        Porch    Roof Deck  Screened Deck  \\\n",
       "count    5891.000000  ...  5891.000000  5891.000000    5891.000000   \n",
       "mean        0.022407  ...     0.127483     0.013071       0.000679   \n",
       "std         0.148016  ...     0.333541     0.113588       0.026051   \n",
       "min         0.000000  ...     0.000000     0.000000       0.000000   \n",
       "25%         0.000000  ...     0.000000     0.000000       0.000000   \n",
       "50%         0.000000  ...     0.000000     0.000000       0.000000   \n",
       "75%         0.000000  ...     0.000000     0.000000       0.000000   \n",
       "max         1.000000  ...     1.000000     1.000000       1.000000   \n",
       "\n",
       "       Screened Patio  1 to 25 Yrs Old  26 to 50 Yrs Old  51 to 100 Yrs Old  \\\n",
       "count     5891.000000      5891.000000       5891.000000        5891.000000   \n",
       "mean         0.000849         0.012562          0.079613           0.501952   \n",
       "std          0.029123         0.111382          0.270716           0.500039   \n",
       "min          0.000000         0.000000          0.000000           0.000000   \n",
       "25%          0.000000         0.000000          0.000000           0.000000   \n",
       "50%          0.000000         0.000000          0.000000           1.000000   \n",
       "75%          0.000000         0.000000          0.000000           1.000000   \n",
       "max          1.000000         1.000000          1.000000           1.000000   \n",
       "\n",
       "       Mean Annual Income    List Price  Monthly_Profit  \n",
       "count         5891.000000  5.891000e+03     5891.000000  \n",
       "mean         84111.866406  5.375888e+05     -742.142930  \n",
       "std          17159.313446  2.995448e+05    13959.906793  \n",
       "min          30057.000000  0.000000e+00  -811696.000000  \n",
       "25%          71500.000000  3.490000e+05     -841.000000  \n",
       "50%          76044.000000  4.690000e+05     -429.000000  \n",
       "75%          99265.000000  6.746750e+05      -39.000000  \n",
       "max         180180.000000  2.995000e+06    22628.000000  \n",
       "\n",
       "[8 rows x 27 columns]"
      ]
     },
     "execution_count": 199,
     "metadata": {},
     "output_type": "execute_result"
    }
   ],
   "source": [
    "# View descriptive statistics\n",
    "\n",
    "df.describe()"
   ]
  },
  {
   "cell_type": "markdown",
   "metadata": {},
   "source": [
    "## Unique Metrics and Transformations\n",
    "\n",
    "1. Imputed missing unit-level rent values using the rent of reported units in the same building, divided by the number of bedrooms of that unit, then multiplied by the number of bedrooms in the unit missing a rent field.\n",
    "\n",
    "2. Estimated average Net Operating Income (NOI) by taking the average of 20% of the observations that were reported, then applying that average to the rest of the dataset. This ended up being 33%, or NOI being 2/3rds of total rental income. I confirmed with specialists in Real Estate appraising that this is an accurate estimated.\n",
    "\n",
    "3. Estimated Monthly Cash Flow, or 'Monthly Profit', was calculated by taking monthly estimated NOI and subtracting monthly taxes, estimated insurance, and mortgage principle and interest using the below assumptions;\n",
    "    * 20% down payment on total sale price.\n",
    "    * 3.5% interest rate\n",
    "    * 30 year mortgage term\n",
    "\n",
    "\n",
    "4. Average Annual Income refers to the average income of the population located in the same zipcode as the property. This was calculated using US Census Bureau data on national income statistics by zipcode."
   ]
  },
  {
   "cell_type": "markdown",
   "metadata": {},
   "source": [
    "## Independent and Dependent Variables\n",
    "\n",
    "\n",
    "In this project, I refer to the independent variables as 'features' and dependent variable as 'target'. These variables are abreviated to X and y, respectively."
   ]
  },
  {
   "cell_type": "code",
   "execution_count": 200,
   "metadata": {},
   "outputs": [],
   "source": [
    "# Declare feature variable and target variable\n",
    "\n",
    "X = df.drop(columns='List Price')\n",
    "y = df['List Price']"
   ]
  },
  {
   "cell_type": "markdown",
   "metadata": {},
   "source": [
    "## Train Test Split"
   ]
  },
  {
   "cell_type": "code",
   "execution_count": 201,
   "metadata": {},
   "outputs": [
    {
     "name": "stdout",
     "output_type": "stream",
     "text": [
      "(4123, 26)\n",
      "(1768, 26)\n",
      "(4123,)\n",
      "(1768,)\n"
     ]
    }
   ],
   "source": [
    "from sklearn.model_selection import train_test_split\n",
    "X_train, X_test, y_train, y_test = train_test_split(X, y, test_size = 0.3, random_state = 42)\n",
    "print(X_train.shape)\n",
    "print(X_test.shape)\n",
    "print(y_train.shape)\n",
    "print(y_test.shape)"
   ]
  },
  {
   "cell_type": "markdown",
   "metadata": {},
   "source": [
    "## Seperating Numerical and Categorical Features"
   ]
  },
  {
   "cell_type": "code",
   "execution_count": 202,
   "metadata": {},
   "outputs": [],
   "source": [
    "num = ['Mean Annual Income', '# Garage Spaces', '# Parking Spaces', 'Total_BRs', 'Total_Bath', 'Monthly_Profit']"
   ]
  },
  {
   "cell_type": "code",
   "execution_count": 203,
   "metadata": {},
   "outputs": [],
   "source": [
    "X_train_num = X_train[num]\n",
    "X_train_cat = X_train.drop(columns=num)\n",
    "X_test_num = X_test[num]\n",
    "X_test_cat = X_test.drop(columns=num)"
   ]
  },
  {
   "cell_type": "markdown",
   "metadata": {},
   "source": [
    "## Standardize & Drop Outliers of Numerical Features"
   ]
  },
  {
   "cell_type": "code",
   "execution_count": 204,
   "metadata": {},
   "outputs": [],
   "source": [
    "from sklearn.preprocessing import StandardScaler\n",
    "\n",
    "ss = StandardScaler()\n",
    "\n",
    "# Standardize Train Set\n",
    "X_train_num_stand = pd.DataFrame(ss.fit_transform(X_train_num))\n",
    "X_train_num_stand.set_index(X_train_num.index, inplace=True)\n",
    "X_train_num_stand.columns = X_train_num.columns\n",
    "X_train_num_stand = X_train_num_stand[(np.abs(stats.zscore(X_train_num_stand)) < 2.5).all(axis=1)]\n",
    "\n",
    "# Standardize Test Set\n",
    "X_test_num_stand = pd.DataFrame(ss.fit_transform(X_test_num))\n",
    "X_test_num_stand.set_index(X_test_num.index, inplace=True)\n",
    "X_test_num_stand.columns = X_test_num.columns\n",
    "X_test_num_stand = X_test_num_stand[(np.abs(stats.zscore(X_test_num_stand)) < 2.5).all(axis=1)]"
   ]
  },
  {
   "cell_type": "markdown",
   "metadata": {},
   "source": [
    "## Recombine Numerical & Categorical"
   ]
  },
  {
   "cell_type": "code",
   "execution_count": 205,
   "metadata": {},
   "outputs": [
    {
     "name": "stdout",
     "output_type": "stream",
     "text": [
      "(3596, 26)\n",
      "(3596,)\n"
     ]
    }
   ],
   "source": [
    "X_train_cat = X_train_cat.loc[X_train_num_stand.index]\n",
    "y_train = y_train.loc[X_train_num_stand.index]\n",
    "X_train_stand = X_train_cat.join(X_train_num_stand)\n",
    "print(X_train_stand.shape)\n",
    "print(y_train.shape)"
   ]
  },
  {
   "cell_type": "code",
   "execution_count": 206,
   "metadata": {},
   "outputs": [
    {
     "name": "stdout",
     "output_type": "stream",
     "text": [
      "(1561, 26)\n",
      "(1561,)\n"
     ]
    }
   ],
   "source": [
    "X_test_cat = X_test_cat.loc[X_test_num_stand.index]\n",
    "y_test = y_test.loc[X_test_num_stand.index]\n",
    "X_test_stand = X_test_cat.join(X_test_num_stand)\n",
    "print(X_test_stand.shape)\n",
    "print(y_test.shape)"
   ]
  },
  {
   "cell_type": "markdown",
   "metadata": {},
   "source": [
    "## Visual EDA\n",
    "\n",
    "Below are two visualizations of the two most important features, 'Estimated Monthly Cash Flow' and 'Average Annual Income of Zipcode'."
   ]
  },
  {
   "cell_type": "code",
   "execution_count": 207,
   "metadata": {},
   "outputs": [
    {
     "data": {
      "image/png": "[encoded data removed]",
      "text/plain": [
       "<Figure size 864x432 with 1 Axes>"
      ]
     },
     "metadata": {
      "needs_background": "light"
     },
     "output_type": "display_data"
    }
   ],
   "source": [
    "plt.subplots(figsize=(12,6))\n",
    "sns.regplot(y_train, X_train_stand['Monthly_Profit'])\n",
    "plt.title('Relationship Between Sale Price & Monthly Cash Flow', fontsize=18)\n",
    "plt.xlabel('Building Sale Price (USD)', fontsize=12)\n",
    "plt.ylabel('Est Monthly Cash Flow (USD)', fontsize=12)\n",
    "plt.axhline(y=0, color='red')\n",
    "plt.axvline(x=571000, color='red')\n",
    "plt.plot()\n",
    "plt.show()"
   ]
  },
  {
   "cell_type": "code",
   "execution_count": 208,
   "metadata": {},
   "outputs": [
    {
     "data": {
      "image/png": "[encoded data removed]",
      "text/plain": [
       "<Figure size 864x432 with 1 Axes>"
      ]
     },
     "metadata": {
      "needs_background": "light"
     },
     "output_type": "display_data"
    }
   ],
   "source": [
    "plt.subplots(figsize=(12,6))\n",
    "sns.regplot(y, X['Mean Annual Income'])\n",
    "plt.title('Relationship Between Sale Price & Local Mean Annual Income', fontsize=18)\n",
    "plt.xlabel('Building Sale Price (USD)', fontsize=12)\n",
    "plt.ylabel('Local Mean Annual Income (USD)', fontsize=12)\n",
    "# plt.axhline(y=0, color='red')\n",
    "# plt.axvline(x=571000, color='red')\n",
    "plt.plot()\n",
    "plt.show()"
   ]
  },
  {
   "cell_type": "markdown",
   "metadata": {},
   "source": [
    "## Fitting the Regression Model to Training Set"
   ]
  },
  {
   "cell_type": "code",
   "execution_count": 209,
   "metadata": {},
   "outputs": [],
   "source": [
    "# Instantiate the linear regression object lr\n",
    "from sklearn.linear_model import LinearRegression, Lasso\n",
    "lr = LinearRegression()\n",
    "\n",
    "# Train the model using training data sets\n",
    "lr.fit(X_train_stand, y_train)\n",
    "\n",
    "# Predict on the test data\n",
    "y_pred = lr.predict(X_test_stand)"
   ]
  },
  {
   "cell_type": "markdown",
   "metadata": {},
   "source": [
    "## Model Slope & Intercept Terms\n",
    "Each feature's slope in the model is given by lr.coef_, and the intercept term is given by lr.intercept_ "
   ]
  },
  {
   "cell_type": "code",
   "execution_count": 210,
   "metadata": {},
   "outputs": [
    {
     "name": "stdout",
     "output_type": "stream",
     "text": [
      "Estimated Model Slopes, a: [  68338.2076652    39553.93733815   10574.80379448   46425.61401739\n",
      "   -8256.59693238   -1882.69694184   41207.6640102    50955.97666998\n",
      "  -30058.5228782    49073.38493778   57726.50260362   93399.23450754\n",
      "   12113.28372744   -2023.51923671  101011.37263699  139774.41862922\n",
      " -129596.65864228   24230.52880823 -129218.92467236  -43829.15053192\n",
      "   50555.77595228  -11002.50530067  -24742.22670137   70648.75049162\n",
      "   88319.91784213 -158136.74476186]\n",
      "Estimated Model Intercept, b: 533853.3484375165\n"
     ]
    }
   ],
   "source": [
    "# Compute model slopes and intercept\n",
    "\n",
    "a_list = lr.coef_\n",
    "b_list = lr.intercept_\n",
    "print(\"Estimated Model Slopes, a:\" , a_list)\n",
    "print(\"Estimated Model Intercept, b:\" , b_list) "
   ]
  },
  {
   "cell_type": "markdown",
   "metadata": {},
   "source": [
    "## Regression Metrics for Model Performance\n",
    "\n",
    "Now, it is the time to evaluate model performance. \n",
    "\n",
    "For regression models, there are two ways to compute performance/accuracy; RMSE (Root Mean Squared Error), and R-Squared.\n",
    "\n",
    "### RMSE\n",
    "\n",
    "RMSE is the standard deviation of the residuals. So, RMSE gives us the standard deviation of the unexplained variance by the model. It can be calculated by taking the square root of Mean Squared Error.\n",
    "RMSE is an absolute measure of fit. It describes the spread  of the residuals, given by the standard deviation of the residuals. The more concentrated the data is around the regression line, the lower standard deviation of residuals; i.e. lower values of RMSE. So, lower values of RMSE indicate better fit of data. "
   ]
  },
  {
   "cell_type": "code",
   "execution_count": 211,
   "metadata": {},
   "outputs": [
    {
     "name": "stdout",
     "output_type": "stream",
     "text": [
      "RMSE value: 194013.7236\n"
     ]
    }
   ],
   "source": [
    "# Calculate Root Mean Squared Error(RMSE)\n",
    "\n",
    "from sklearn.metrics import mean_squared_error\n",
    "mse = mean_squared_error(y_test, y_pred)\n",
    "rmse = np.sqrt(mse)\n",
    "print(\"RMSE value: {:.4f}\".format(rmse))\n"
   ]
  },
  {
   "cell_type": "markdown",
   "metadata": {},
   "source": [
    "###  R2 Score\n",
    "\n",
    "\n",
    "R2 Score is another metric to evaluate performance of a regression model. It is also referred to as the coefficient of determination. It gives us the accuracy of fit for the linear regression model, and indicates the percentage of variance that is explained by the model. \n",
    "\n",
    "R2 = Explained Variation/Total Variation\n",
    "\n",
    "In general, the higher the R2 value, the better the model fits the data. Usually, its value ranges from 0 to 1. So, we want its value to be as close to 1. Its value can become negative if our model is wrong."
   ]
  },
  {
   "cell_type": "code",
   "execution_count": 212,
   "metadata": {},
   "outputs": [
    {
     "name": "stdout",
     "output_type": "stream",
     "text": [
      "R2 Score value: 0.47\n"
     ]
    }
   ],
   "source": [
    "# Calculate r2_score\n",
    "\n",
    "from sklearn.metrics import r2_score\n",
    "print (\"R2 Score value: {:.2f}\".format(r2_score(y_test, y_pred)))\n"
   ]
  },
  {
   "cell_type": "markdown",
   "metadata": {},
   "source": [
    "## Interpretation & Conclusion\n",
    "\n",
    "In any business or investment decision, the benchmark for an acceptable R2 score value is 0.7. If the R2 score value >= 0.7, then the model is good enough to deploy on unseen data. Our R2 score value is 0.47, which can also be interpreted as \"our model explains 47% of the variance in sale price\". So, the R2 score value confirms that the model is not good enough to deploy because it does not provide a good fit to the data."
   ]
  },
  {
   "cell_type": "markdown",
   "metadata": {},
   "source": [
    "## Model Assumptions\n",
    "\n",
    "The Linear Regression model is based on several assumptions which are listed below:-\n",
    "\n",
    "### i.\tLinear relationship\n",
    "\n",
    "\n",
    "The relationship between response and feature variables should be linear. This linear relationship assumption can be tested by plotting a scatter-plot between response and feature variables.\n",
    "\n",
    "\n",
    "### ii.\tMultivariate normality\n",
    "\n",
    "The linear regression model requires all variables to be multivariate normal. A multivariate normal distribution means a vector in multiple normally distributed variables, where any linear combination of the variables is also normally distributed.\n",
    "\n",
    "\n",
    "### iii.\tNo or little multicollinearity\n",
    "\n",
    "It is assumed that there is little or no multicollinearity in the data. Multicollinearity occurs when the features (or independent variables) are highly correlated.\n",
    "\n",
    "\n",
    "### iv.\tNo auto-correlation\n",
    "\n",
    "Also, it is assumed that there is little or no auto-correlation in the data. Autocorrelation occurs when the residual errors are not independent from each other.\n",
    "\n",
    "\n",
    "### v.\tHomoscedasticity\n",
    "\n",
    "Homoscedasticity describes a situation in which the error term (that is, the noise in the model) is the same across all values of the independent variables. It means the residuals are same across the regression line. It can be checked by looking at scatter plot.\n"
   ]
  },
  {
   "cell_type": "code",
   "execution_count": null,
   "metadata": {},
   "outputs": [],
   "source": []
  }
 ],
 "metadata": {
  "kernelspec": {
   "display_name": "Python 3",
   "language": "python",
   "name": "python3"
  },
  "language_info": {
   "codemirror_mode": {
    "name": "ipython",
    "version": 3
   },
   "file_extension": ".py",
   "mimetype": "text/x-python",
   "name": "python",
   "nbconvert_exporter": "python",
   "pygments_lexer": "ipython3",
   "version": "3.7.4"
  }
 },
 "nbformat": 4,
 "nbformat_minor": 4
}
